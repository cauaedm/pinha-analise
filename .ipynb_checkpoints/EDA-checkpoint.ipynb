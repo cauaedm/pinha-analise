{
 "cells": [
  {
   "cell_type": "code",
   "execution_count": 29,
   "id": "7b063e74",
   "metadata": {},
   "outputs": [],
   "source": [
    "import pandas as pd\n",
    "import numpy as np\n",
    "import matplotlib.pyplot as plt\n",
    "import seaborn as sns"
   ]
  },
  {
   "cell_type": "code",
   "execution_count": 15,
   "id": "bc582560",
   "metadata": {},
   "outputs": [
    {
     "data": {
      "text/html": [
       "<div>\n",
       "<style scoped>\n",
       "    .dataframe tbody tr th:only-of-type {\n",
       "        vertical-align: middle;\n",
       "    }\n",
       "\n",
       "    .dataframe tbody tr th {\n",
       "        vertical-align: top;\n",
       "    }\n",
       "\n",
       "    .dataframe thead th {\n",
       "        text-align: right;\n",
       "    }\n",
       "</style>\n",
       "<table border=\"1\" class=\"dataframe\">\n",
       "  <thead>\n",
       "    <tr style=\"text-align: right;\">\n",
       "      <th></th>\n",
       "      <th>Produto</th>\n",
       "      <th>Data</th>\n",
       "      <th>Preco</th>\n",
       "    </tr>\n",
       "  </thead>\n",
       "  <tbody>\n",
       "    <tr>\n",
       "      <th>0</th>\n",
       "      <td>PINHA</td>\n",
       "      <td>2024-08-07</td>\n",
       "      <td>140.0</td>\n",
       "    </tr>\n",
       "    <tr>\n",
       "      <th>1</th>\n",
       "      <td>PINHA</td>\n",
       "      <td>2024-08-05</td>\n",
       "      <td>170.0</td>\n",
       "    </tr>\n",
       "    <tr>\n",
       "      <th>2</th>\n",
       "      <td>PINHA</td>\n",
       "      <td>2024-08-02</td>\n",
       "      <td>160.0</td>\n",
       "    </tr>\n",
       "    <tr>\n",
       "      <th>3</th>\n",
       "      <td>PINHA</td>\n",
       "      <td>2024-07-31</td>\n",
       "      <td>160.0</td>\n",
       "    </tr>\n",
       "    <tr>\n",
       "      <th>4</th>\n",
       "      <td>PINHA</td>\n",
       "      <td>2024-07-29</td>\n",
       "      <td>160.0</td>\n",
       "    </tr>\n",
       "  </tbody>\n",
       "</table>\n",
       "</div>"
      ],
      "text/plain": [
       "  Produto        Data  Preco\n",
       "0   PINHA  2024-08-07  140.0\n",
       "1   PINHA  2024-08-05  170.0\n",
       "2   PINHA  2024-08-02  160.0\n",
       "3   PINHA  2024-07-31  160.0\n",
       "4   PINHA  2024-07-29  160.0"
      ]
     },
     "execution_count": 15,
     "metadata": {},
     "output_type": "execute_result"
    }
   ],
   "source": [
    "dados = pd.read_csv('data.csv')\n",
    "dados.head()"
   ]
  },
  {
   "cell_type": "code",
   "execution_count": 16,
   "id": "53e3fb76",
   "metadata": {},
   "outputs": [
    {
     "name": "stdout",
     "output_type": "stream",
     "text": [
      "<class 'pandas.core.frame.DataFrame'>\n",
      "RangeIndex: 244 entries, 0 to 243\n",
      "Data columns (total 3 columns):\n",
      " #   Column   Non-Null Count  Dtype  \n",
      "---  ------   --------------  -----  \n",
      " 0   Produto  244 non-null    object \n",
      " 1   Data     244 non-null    object \n",
      " 2   Preco    244 non-null    float64\n",
      "dtypes: float64(1), object(2)\n",
      "memory usage: 5.8+ KB\n"
     ]
    }
   ],
   "source": [
    "dados.info()"
   ]
  },
  {
   "cell_type": "code",
   "execution_count": 17,
   "id": "79245a4d",
   "metadata": {},
   "outputs": [],
   "source": [
    "dados['Data'] = pd.to_datetime(dados['Data'])"
   ]
  },
  {
   "cell_type": "code",
   "execution_count": 21,
   "id": "58fbac0b",
   "metadata": {},
   "outputs": [],
   "source": [
    "dados['Mes'] = dados['Data'].apply(lambda x: x.month)\n",
    "dados['Dia'] = dados['Data'].apply(lambda x: x.day)\n",
    "dados['Ano'] = dados['Data'].apply(lambda x: x.year)\n",
    "\n",
    "dados['Dia da Semana'] = dados['Data'].apply(lambda x: x.dayofweek)"
   ]
  },
  {
   "cell_type": "code",
   "execution_count": 22,
   "id": "2db5c2c2",
   "metadata": {},
   "outputs": [
    {
     "data": {
      "text/html": [
       "<div>\n",
       "<style scoped>\n",
       "    .dataframe tbody tr th:only-of-type {\n",
       "        vertical-align: middle;\n",
       "    }\n",
       "\n",
       "    .dataframe tbody tr th {\n",
       "        vertical-align: top;\n",
       "    }\n",
       "\n",
       "    .dataframe thead th {\n",
       "        text-align: right;\n",
       "    }\n",
       "</style>\n",
       "<table border=\"1\" class=\"dataframe\">\n",
       "  <thead>\n",
       "    <tr style=\"text-align: right;\">\n",
       "      <th></th>\n",
       "      <th>Produto</th>\n",
       "      <th>Data</th>\n",
       "      <th>Preco</th>\n",
       "      <th>Mes</th>\n",
       "      <th>Dia</th>\n",
       "      <th>Ano</th>\n",
       "      <th>Dia da Semana</th>\n",
       "    </tr>\n",
       "  </thead>\n",
       "  <tbody>\n",
       "    <tr>\n",
       "      <th>0</th>\n",
       "      <td>PINHA</td>\n",
       "      <td>2024-08-07</td>\n",
       "      <td>140.0</td>\n",
       "      <td>8</td>\n",
       "      <td>7</td>\n",
       "      <td>2024</td>\n",
       "      <td>2</td>\n",
       "    </tr>\n",
       "    <tr>\n",
       "      <th>1</th>\n",
       "      <td>PINHA</td>\n",
       "      <td>2024-08-05</td>\n",
       "      <td>170.0</td>\n",
       "      <td>8</td>\n",
       "      <td>5</td>\n",
       "      <td>2024</td>\n",
       "      <td>0</td>\n",
       "    </tr>\n",
       "    <tr>\n",
       "      <th>2</th>\n",
       "      <td>PINHA</td>\n",
       "      <td>2024-08-02</td>\n",
       "      <td>160.0</td>\n",
       "      <td>8</td>\n",
       "      <td>2</td>\n",
       "      <td>2024</td>\n",
       "      <td>4</td>\n",
       "    </tr>\n",
       "    <tr>\n",
       "      <th>3</th>\n",
       "      <td>PINHA</td>\n",
       "      <td>2024-07-31</td>\n",
       "      <td>160.0</td>\n",
       "      <td>7</td>\n",
       "      <td>31</td>\n",
       "      <td>2024</td>\n",
       "      <td>2</td>\n",
       "    </tr>\n",
       "    <tr>\n",
       "      <th>4</th>\n",
       "      <td>PINHA</td>\n",
       "      <td>2024-07-29</td>\n",
       "      <td>160.0</td>\n",
       "      <td>7</td>\n",
       "      <td>29</td>\n",
       "      <td>2024</td>\n",
       "      <td>0</td>\n",
       "    </tr>\n",
       "    <tr>\n",
       "      <th>...</th>\n",
       "      <td>...</td>\n",
       "      <td>...</td>\n",
       "      <td>...</td>\n",
       "      <td>...</td>\n",
       "      <td>...</td>\n",
       "      <td>...</td>\n",
       "      <td>...</td>\n",
       "    </tr>\n",
       "    <tr>\n",
       "      <th>239</th>\n",
       "      <td>PINHA</td>\n",
       "      <td>2022-07-29</td>\n",
       "      <td>110.0</td>\n",
       "      <td>7</td>\n",
       "      <td>29</td>\n",
       "      <td>2022</td>\n",
       "      <td>4</td>\n",
       "    </tr>\n",
       "    <tr>\n",
       "      <th>240</th>\n",
       "      <td>PINHA</td>\n",
       "      <td>2022-07-20</td>\n",
       "      <td>110.0</td>\n",
       "      <td>7</td>\n",
       "      <td>20</td>\n",
       "      <td>2022</td>\n",
       "      <td>2</td>\n",
       "    </tr>\n",
       "    <tr>\n",
       "      <th>241</th>\n",
       "      <td>PINHA</td>\n",
       "      <td>2022-07-18</td>\n",
       "      <td>110.0</td>\n",
       "      <td>7</td>\n",
       "      <td>18</td>\n",
       "      <td>2022</td>\n",
       "      <td>0</td>\n",
       "    </tr>\n",
       "    <tr>\n",
       "      <th>242</th>\n",
       "      <td>PINHA</td>\n",
       "      <td>2022-07-15</td>\n",
       "      <td>110.0</td>\n",
       "      <td>7</td>\n",
       "      <td>15</td>\n",
       "      <td>2022</td>\n",
       "      <td>4</td>\n",
       "    </tr>\n",
       "    <tr>\n",
       "      <th>243</th>\n",
       "      <td>PINHA</td>\n",
       "      <td>2022-07-13</td>\n",
       "      <td>110.0</td>\n",
       "      <td>7</td>\n",
       "      <td>13</td>\n",
       "      <td>2022</td>\n",
       "      <td>2</td>\n",
       "    </tr>\n",
       "  </tbody>\n",
       "</table>\n",
       "<p>244 rows × 7 columns</p>\n",
       "</div>"
      ],
      "text/plain": [
       "    Produto       Data  Preco  Mes  Dia   Ano  Dia da Semana\n",
       "0     PINHA 2024-08-07  140.0    8    7  2024              2\n",
       "1     PINHA 2024-08-05  170.0    8    5  2024              0\n",
       "2     PINHA 2024-08-02  160.0    8    2  2024              4\n",
       "3     PINHA 2024-07-31  160.0    7   31  2024              2\n",
       "4     PINHA 2024-07-29  160.0    7   29  2024              0\n",
       "..      ...        ...    ...  ...  ...   ...            ...\n",
       "239   PINHA 2022-07-29  110.0    7   29  2022              4\n",
       "240   PINHA 2022-07-20  110.0    7   20  2022              2\n",
       "241   PINHA 2022-07-18  110.0    7   18  2022              0\n",
       "242   PINHA 2022-07-15  110.0    7   15  2022              4\n",
       "243   PINHA 2022-07-13  110.0    7   13  2022              2\n",
       "\n",
       "[244 rows x 7 columns]"
      ]
     },
     "execution_count": 22,
     "metadata": {},
     "output_type": "execute_result"
    }
   ],
   "source": [
    "dados"
   ]
  },
  {
   "cell_type": "code",
   "execution_count": 31,
   "id": "9ec38db5",
   "metadata": {},
   "outputs": [
    {
     "data": {
      "text/plain": [
       "Mes\n",
       "1     129.411765\n",
       "2     102.500000\n",
       "3     119.230769\n",
       "4     122.000000\n",
       "5     127.000000\n",
       "6     130.526316\n",
       "7     138.387097\n",
       "8     125.769231\n",
       "9     117.500000\n",
       "10    130.789474\n",
       "11    138.888889\n",
       "12    141.666667\n",
       "Name: Preco, dtype: float64"
      ]
     },
     "execution_count": 31,
     "metadata": {},
     "output_type": "execute_result"
    }
   ],
   "source": [
    "media_por_mes = dados.groupby('Mes')['Preco'].mean()\n",
    "media_por_mes"
   ]
  },
  {
   "cell_type": "code",
   "execution_count": 37,
   "id": "939bd564",
   "metadata": {},
   "outputs": [
    {
     "data": {
      "image/png": "[encoded data removed]",
      "text/plain": [
       "<Figure size 640x480 with 1 Axes>"
      ]
     },
     "metadata": {},
     "output_type": "display_data"
    }
   ],
   "source": [
    "sns.barplot(x='Mes', y='Preco', data=dados)\n",
    "\n",
    "plt.xlabel('Mês')\n",
    "plt.ylabel('Preço Médio')\n",
    "plt.title('Preço Médio por Mês')\n",
    "plt.show()"
   ]
  },
  {
   "cell_type": "code",
   "execution_count": 39,
   "id": "b917a51c",
   "metadata": {},
   "outputs": [
    {
     "data": {
      "image/png": "[encoded data removed]",
      "text/plain": [
       "<Figure size 640x480 with 1 Axes>"
      ]
     },
     "metadata": {},
     "output_type": "display_data"
    }
   ],
   "source": [
    "sns.barplot(x='Dia da Semana', y='Preco', data=dados)\n",
    "\n",
    "plt.xlabel('Dia da Semana')\n",
    "plt.ylabel('Preço Médio')\n",
    "plt.title('Preço Médio por Dia da Semana')\n",
    "plt.show()"
   ]
  },
  {
   "cell_type": "code",
   "execution_count": 47,
   "id": "eb8e9486",
   "metadata": {},
   "outputs": [
    {
     "data": {
      "image/png": "[encoded data removed]",
      "text/plain": [
       "<Figure size 640x480 with 1 Axes>"
      ]
     },
     "metadata": {},
     "output_type": "display_data"
    }
   ],
   "source": [
    "sns.barplot(x='Dia', y='Preco', data=dados)\n",
    "\n",
    "plt.xlabel('Dia')\n",
    "plt.ylabel('Preço Médio')\n",
    "plt.title('Preço Médio por Dia do Mês')\n",
    "plt.show()"
   ]
  },
  {
   "cell_type": "code",
   "execution_count": null,
   "id": "966d866b",
   "metadata": {},
   "outputs": [],
   "source": []
  }
 ],
 "metadata": {
  "kernelspec": {
   "display_name": "Python 3 (ipykernel)",
   "language": "python",
   "name": "python3"
  },
  "language_info": {
   "codemirror_mode": {
    "name": "ipython",
    "version": 3
   },
   "file_extension": ".py",
   "mimetype": "text/x-python",
   "name": "python",
   "nbconvert_exporter": "python",
   "pygments_lexer": "ipython3",
   "version": "3.11.5"
  }
 },
 "nbformat": 4,
 "nbformat_minor": 5
}
